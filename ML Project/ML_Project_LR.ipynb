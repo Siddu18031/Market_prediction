{
 "cells": [
  {
   "cell_type": "code",
   "execution_count": 2,
   "id": "e8b7c61c",
   "metadata": {},
   "outputs": [],
   "source": [
    "import pandas as pd\n",
    "import matplotlib.pyplot as plt\n",
    "import numpy as np\n",
    "from sklearn.model_selection import cross_val_score, train_test_split, GridSearchCV\n",
    "from sklearn.feature_selection import RFECV, SelectFromModel, SelectKBest\n",
    "from sklearn.preprocessing import StandardScaler\n",
    "from sklearn import metrics\n"
   ]
  },
  {
   "cell_type": "markdown",
   "id": "acf9cc3f",
   "metadata": {},
   "source": [
    "# Reading CSV file"
   ]
  },
  {
   "cell_type": "code",
   "execution_count": 3,
   "id": "bc0fcacb",
   "metadata": {},
   "outputs": [
    {
     "data": {
      "text/html": [
       "<div>\n",
       "<style scoped>\n",
       "    .dataframe tbody tr th:only-of-type {\n",
       "        vertical-align: middle;\n",
       "    }\n",
       "\n",
       "    .dataframe tbody tr th {\n",
       "        vertical-align: top;\n",
       "    }\n",
       "\n",
       "    .dataframe thead th {\n",
       "        text-align: right;\n",
       "    }\n",
       "</style>\n",
       "<table border=\"1\" class=\"dataframe\">\n",
       "  <thead>\n",
       "    <tr style=\"text-align: right;\">\n",
       "      <th></th>\n",
       "      <th>OPEN</th>\n",
       "      <th>HIGH</th>\n",
       "      <th>LOW</th>\n",
       "      <th>PREV. CLOSE</th>\n",
       "      <th>ltp</th>\n",
       "      <th>close</th>\n",
       "      <th>vwap</th>\n",
       "      <th>52W H</th>\n",
       "      <th>52W L</th>\n",
       "      <th>VOLUME</th>\n",
       "      <th>No of trades</th>\n",
       "    </tr>\n",
       "    <tr>\n",
       "      <th>Date</th>\n",
       "      <th></th>\n",
       "      <th></th>\n",
       "      <th></th>\n",
       "      <th></th>\n",
       "      <th></th>\n",
       "      <th></th>\n",
       "      <th></th>\n",
       "      <th></th>\n",
       "      <th></th>\n",
       "      <th></th>\n",
       "      <th></th>\n",
       "    </tr>\n",
       "  </thead>\n",
       "  <tbody>\n",
       "    <tr>\n",
       "      <th>2019-04-24</th>\n",
       "      <td>397.10</td>\n",
       "      <td>402.65</td>\n",
       "      <td>393.45</td>\n",
       "      <td>396.50</td>\n",
       "      <td>401.60</td>\n",
       "      <td>401.10</td>\n",
       "      <td>397.78</td>\n",
       "      <td>411.0</td>\n",
       "      <td>256.50</td>\n",
       "      <td>11397163</td>\n",
       "      <td>143131</td>\n",
       "    </tr>\n",
       "    <tr>\n",
       "      <th>2019-04-25</th>\n",
       "      <td>400.90</td>\n",
       "      <td>402.40</td>\n",
       "      <td>394.30</td>\n",
       "      <td>401.10</td>\n",
       "      <td>395.65</td>\n",
       "      <td>395.40</td>\n",
       "      <td>398.27</td>\n",
       "      <td>411.0</td>\n",
       "      <td>256.50</td>\n",
       "      <td>16524091</td>\n",
       "      <td>116341</td>\n",
       "    </tr>\n",
       "    <tr>\n",
       "      <th>2019-04-26</th>\n",
       "      <td>400.00</td>\n",
       "      <td>408.00</td>\n",
       "      <td>394.25</td>\n",
       "      <td>395.40</td>\n",
       "      <td>407.20</td>\n",
       "      <td>407.20</td>\n",
       "      <td>402.32</td>\n",
       "      <td>411.0</td>\n",
       "      <td>256.50</td>\n",
       "      <td>14286163</td>\n",
       "      <td>132349</td>\n",
       "    </tr>\n",
       "    <tr>\n",
       "      <th>2019-04-30</th>\n",
       "      <td>407.75</td>\n",
       "      <td>409.80</td>\n",
       "      <td>403.30</td>\n",
       "      <td>407.20</td>\n",
       "      <td>405.75</td>\n",
       "      <td>407.50</td>\n",
       "      <td>407.21</td>\n",
       "      <td>411.0</td>\n",
       "      <td>256.50</td>\n",
       "      <td>19375553</td>\n",
       "      <td>226795</td>\n",
       "    </tr>\n",
       "    <tr>\n",
       "      <th>2019-05-02</th>\n",
       "      <td>403.70</td>\n",
       "      <td>405.00</td>\n",
       "      <td>394.40</td>\n",
       "      <td>407.50</td>\n",
       "      <td>394.75</td>\n",
       "      <td>395.55</td>\n",
       "      <td>399.85</td>\n",
       "      <td>411.0</td>\n",
       "      <td>256.50</td>\n",
       "      <td>16572948</td>\n",
       "      <td>190606</td>\n",
       "    </tr>\n",
       "    <tr>\n",
       "      <th>...</th>\n",
       "      <td>...</td>\n",
       "      <td>...</td>\n",
       "      <td>...</td>\n",
       "      <td>...</td>\n",
       "      <td>...</td>\n",
       "      <td>...</td>\n",
       "      <td>...</td>\n",
       "      <td>...</td>\n",
       "      <td>...</td>\n",
       "      <td>...</td>\n",
       "      <td>...</td>\n",
       "    </tr>\n",
       "    <tr>\n",
       "      <th>2021-04-16</th>\n",
       "      <td>574.60</td>\n",
       "      <td>577.75</td>\n",
       "      <td>564.10</td>\n",
       "      <td>575.20</td>\n",
       "      <td>565.05</td>\n",
       "      <td>566.95</td>\n",
       "      <td>569.62</td>\n",
       "      <td>679.4</td>\n",
       "      <td>285.55</td>\n",
       "      <td>24045008</td>\n",
       "      <td>259366</td>\n",
       "    </tr>\n",
       "    <tr>\n",
       "      <th>2021-04-19</th>\n",
       "      <td>550.00</td>\n",
       "      <td>562.30</td>\n",
       "      <td>534.40</td>\n",
       "      <td>566.95</td>\n",
       "      <td>560.40</td>\n",
       "      <td>559.75</td>\n",
       "      <td>547.46</td>\n",
       "      <td>679.4</td>\n",
       "      <td>285.55</td>\n",
       "      <td>28526176</td>\n",
       "      <td>301440</td>\n",
       "    </tr>\n",
       "    <tr>\n",
       "      <th>2021-04-20</th>\n",
       "      <td>565.20</td>\n",
       "      <td>572.65</td>\n",
       "      <td>552.60</td>\n",
       "      <td>559.75</td>\n",
       "      <td>558.40</td>\n",
       "      <td>559.10</td>\n",
       "      <td>562.91</td>\n",
       "      <td>679.4</td>\n",
       "      <td>285.55</td>\n",
       "      <td>24425842</td>\n",
       "      <td>265471</td>\n",
       "    </tr>\n",
       "    <tr>\n",
       "      <th>2021-04-22</th>\n",
       "      <td>552.00</td>\n",
       "      <td>580.60</td>\n",
       "      <td>546.90</td>\n",
       "      <td>559.10</td>\n",
       "      <td>578.40</td>\n",
       "      <td>579.20</td>\n",
       "      <td>570.14</td>\n",
       "      <td>679.4</td>\n",
       "      <td>285.55</td>\n",
       "      <td>34942633</td>\n",
       "      <td>340989</td>\n",
       "    </tr>\n",
       "    <tr>\n",
       "      <th>2021-04-23</th>\n",
       "      <td>569.90</td>\n",
       "      <td>580.50</td>\n",
       "      <td>567.05</td>\n",
       "      <td>579.20</td>\n",
       "      <td>567.50</td>\n",
       "      <td>569.95</td>\n",
       "      <td>572.81</td>\n",
       "      <td>679.4</td>\n",
       "      <td>285.55</td>\n",
       "      <td>33749097</td>\n",
       "      <td>364665</td>\n",
       "    </tr>\n",
       "  </tbody>\n",
       "</table>\n",
       "<p>495 rows × 11 columns</p>\n",
       "</div>"
      ],
      "text/plain": [
       "              OPEN    HIGH     LOW  PREV. CLOSE     ltp   close    vwap  \\\n",
       "Date                                                                      \n",
       "2019-04-24  397.10  402.65  393.45       396.50  401.60  401.10  397.78   \n",
       "2019-04-25  400.90  402.40  394.30       401.10  395.65  395.40  398.27   \n",
       "2019-04-26  400.00  408.00  394.25       395.40  407.20  407.20  402.32   \n",
       "2019-04-30  407.75  409.80  403.30       407.20  405.75  407.50  407.21   \n",
       "2019-05-02  403.70  405.00  394.40       407.50  394.75  395.55  399.85   \n",
       "...            ...     ...     ...          ...     ...     ...     ...   \n",
       "2021-04-16  574.60  577.75  564.10       575.20  565.05  566.95  569.62   \n",
       "2021-04-19  550.00  562.30  534.40       566.95  560.40  559.75  547.46   \n",
       "2021-04-20  565.20  572.65  552.60       559.75  558.40  559.10  562.91   \n",
       "2021-04-22  552.00  580.60  546.90       559.10  578.40  579.20  570.14   \n",
       "2021-04-23  569.90  580.50  567.05       579.20  567.50  569.95  572.81   \n",
       "\n",
       "            52W H   52W L    VOLUME  No of trades   \n",
       "Date                                                \n",
       "2019-04-24  411.0  256.50  11397163         143131  \n",
       "2019-04-25  411.0  256.50  16524091         116341  \n",
       "2019-04-26  411.0  256.50  14286163         132349  \n",
       "2019-04-30  411.0  256.50  19375553         226795  \n",
       "2019-05-02  411.0  256.50  16572948         190606  \n",
       "...           ...     ...       ...            ...  \n",
       "2021-04-16  679.4  285.55  24045008         259366  \n",
       "2021-04-19  679.4  285.55  28526176         301440  \n",
       "2021-04-20  679.4  285.55  24425842         265471  \n",
       "2021-04-22  679.4  285.55  34942633         340989  \n",
       "2021-04-23  679.4  285.55  33749097         364665  \n",
       "\n",
       "[495 rows x 11 columns]"
      ]
     },
     "execution_count": 3,
     "metadata": {},
     "output_type": "execute_result"
    }
   ],
   "source": [
    "Stock = pd.read_csv('D:\\Desktop\\ML Project\\ml_stoc_prediction\\NSE-ICICIBANK.csv', index_col='Date',parse_dates=True)\n",
    "Stock.drop(['series','VALUE'], inplace=True, axis=1)\n",
    "df_Stock = Stock\n",
    "df_Stock"
   ]
  },
  {
   "cell_type": "code",
   "execution_count": 4,
   "id": "a6a2efcd",
   "metadata": {},
   "outputs": [
    {
     "data": {
      "text/html": [
       "<div>\n",
       "<style scoped>\n",
       "    .dataframe tbody tr th:only-of-type {\n",
       "        vertical-align: middle;\n",
       "    }\n",
       "\n",
       "    .dataframe tbody tr th {\n",
       "        vertical-align: top;\n",
       "    }\n",
       "\n",
       "    .dataframe thead th {\n",
       "        text-align: right;\n",
       "    }\n",
       "</style>\n",
       "<table border=\"1\" class=\"dataframe\">\n",
       "  <thead>\n",
       "    <tr style=\"text-align: right;\">\n",
       "      <th></th>\n",
       "      <th>OPEN</th>\n",
       "      <th>HIGH</th>\n",
       "      <th>LOW</th>\n",
       "      <th>PREV. CLOSE</th>\n",
       "      <th>ltp</th>\n",
       "      <th>close</th>\n",
       "      <th>vwap</th>\n",
       "      <th>52W H</th>\n",
       "      <th>52W L</th>\n",
       "      <th>VOLUME</th>\n",
       "      <th>No of trades</th>\n",
       "    </tr>\n",
       "    <tr>\n",
       "      <th>Date</th>\n",
       "      <th></th>\n",
       "      <th></th>\n",
       "      <th></th>\n",
       "      <th></th>\n",
       "      <th></th>\n",
       "      <th></th>\n",
       "      <th></th>\n",
       "      <th></th>\n",
       "      <th></th>\n",
       "      <th></th>\n",
       "      <th></th>\n",
       "    </tr>\n",
       "  </thead>\n",
       "  <tbody>\n",
       "    <tr>\n",
       "      <th>2021-04-16</th>\n",
       "      <td>574.6</td>\n",
       "      <td>577.75</td>\n",
       "      <td>564.10</td>\n",
       "      <td>575.20</td>\n",
       "      <td>565.05</td>\n",
       "      <td>566.95</td>\n",
       "      <td>569.62</td>\n",
       "      <td>679.4</td>\n",
       "      <td>285.55</td>\n",
       "      <td>24045008</td>\n",
       "      <td>259366</td>\n",
       "    </tr>\n",
       "    <tr>\n",
       "      <th>2021-04-19</th>\n",
       "      <td>550.0</td>\n",
       "      <td>562.30</td>\n",
       "      <td>534.40</td>\n",
       "      <td>566.95</td>\n",
       "      <td>560.40</td>\n",
       "      <td>559.75</td>\n",
       "      <td>547.46</td>\n",
       "      <td>679.4</td>\n",
       "      <td>285.55</td>\n",
       "      <td>28526176</td>\n",
       "      <td>301440</td>\n",
       "    </tr>\n",
       "    <tr>\n",
       "      <th>2021-04-20</th>\n",
       "      <td>565.2</td>\n",
       "      <td>572.65</td>\n",
       "      <td>552.60</td>\n",
       "      <td>559.75</td>\n",
       "      <td>558.40</td>\n",
       "      <td>559.10</td>\n",
       "      <td>562.91</td>\n",
       "      <td>679.4</td>\n",
       "      <td>285.55</td>\n",
       "      <td>24425842</td>\n",
       "      <td>265471</td>\n",
       "    </tr>\n",
       "    <tr>\n",
       "      <th>2021-04-22</th>\n",
       "      <td>552.0</td>\n",
       "      <td>580.60</td>\n",
       "      <td>546.90</td>\n",
       "      <td>559.10</td>\n",
       "      <td>578.40</td>\n",
       "      <td>579.20</td>\n",
       "      <td>570.14</td>\n",
       "      <td>679.4</td>\n",
       "      <td>285.55</td>\n",
       "      <td>34942633</td>\n",
       "      <td>340989</td>\n",
       "    </tr>\n",
       "    <tr>\n",
       "      <th>2021-04-23</th>\n",
       "      <td>569.9</td>\n",
       "      <td>580.50</td>\n",
       "      <td>567.05</td>\n",
       "      <td>579.20</td>\n",
       "      <td>567.50</td>\n",
       "      <td>569.95</td>\n",
       "      <td>572.81</td>\n",
       "      <td>679.4</td>\n",
       "      <td>285.55</td>\n",
       "      <td>33749097</td>\n",
       "      <td>364665</td>\n",
       "    </tr>\n",
       "  </tbody>\n",
       "</table>\n",
       "</div>"
      ],
      "text/plain": [
       "             OPEN    HIGH     LOW  PREV. CLOSE     ltp   close    vwap  52W H  \\\n",
       "Date                                                                            \n",
       "2021-04-16  574.6  577.75  564.10       575.20  565.05  566.95  569.62  679.4   \n",
       "2021-04-19  550.0  562.30  534.40       566.95  560.40  559.75  547.46  679.4   \n",
       "2021-04-20  565.2  572.65  552.60       559.75  558.40  559.10  562.91  679.4   \n",
       "2021-04-22  552.0  580.60  546.90       559.10  578.40  579.20  570.14  679.4   \n",
       "2021-04-23  569.9  580.50  567.05       579.20  567.50  569.95  572.81  679.4   \n",
       "\n",
       "             52W L    VOLUME  No of trades   \n",
       "Date                                         \n",
       "2021-04-16  285.55  24045008         259366  \n",
       "2021-04-19  285.55  28526176         301440  \n",
       "2021-04-20  285.55  24425842         265471  \n",
       "2021-04-22  285.55  34942633         340989  \n",
       "2021-04-23  285.55  33749097         364665  "
      ]
     },
     "execution_count": 4,
     "metadata": {},
     "output_type": "execute_result"
    }
   ],
   "source": [
    "df_Stock.tail(5) #Last five row"
   ]
  },
  {
   "cell_type": "code",
   "execution_count": 5,
   "id": "bc0926a1",
   "metadata": {},
   "outputs": [
    {
     "data": {
      "text/plain": [
       "(495, 11)"
      ]
     },
     "execution_count": 5,
     "metadata": {},
     "output_type": "execute_result"
    }
   ],
   "source": [
    "df_Stock.shape #No. of columns and row"
   ]
  },
  {
   "cell_type": "code",
   "execution_count": 6,
   "id": "5575deea",
   "metadata": {},
   "outputs": [
    {
     "data": {
      "text/plain": [
       "Index(['OPEN', 'HIGH', 'LOW', 'PREV. CLOSE', 'ltp', 'close', 'vwap', '52W H',\n",
       "       '52W L', 'VOLUME', 'No of trades '],\n",
       "      dtype='object')"
      ]
     },
     "execution_count": 6,
     "metadata": {},
     "output_type": "execute_result"
    }
   ],
   "source": [
    "df_Stock.columns #Name of columns"
   ]
  },
  {
   "cell_type": "markdown",
   "id": "ff7c16b5",
   "metadata": {},
   "source": [
    "# Ploting Closed Price v/s Date"
   ]
  },
  {
   "cell_type": "code",
   "execution_count": 7,
   "id": "ed0f424d",
   "metadata": {},
   "outputs": [
    {
     "data": {
      "image/png": "[encoded data removed]",
      "text/plain": [
       "<Figure size 1152x576 with 1 Axes>"
      ]
     },
     "metadata": {
      "needs_background": "light"
     },
     "output_type": "display_data"
    }
   ],
   "source": [
    "df_Stock['close'].plot(figsize=(16, 8))\n",
    "plt.title(\"Stock Price\", fontsize=18)\n",
    "plt.ylabel('Close Price in Rs.', fontsize=18)\n",
    "plt.xlabel('Date', fontsize=14)\n",
    "plt.grid(which=\"major\", color='k', linestyle='-.', linewidth=0.5)\n",
    "plt.show()"
   ]
  },
  {
   "cell_type": "markdown",
   "id": "033a572a",
   "metadata": {},
   "source": [
    "# Splitting dataset for training , validation and test sets"
   ]
  },
  {
   "cell_type": "code",
   "execution_count": 8,
   "id": "9a09c35e",
   "metadata": {},
   "outputs": [],
   "source": [
    "def create_train_test_set(df_Stock):\n",
    "    \n",
    "    features = df_Stock.drop(columns=['close'], axis=1)\n",
    "    target = df_Stock['close']\n",
    "    \n",
    "\n",
    "    data_len = df_Stock.shape[0]\n",
    "    print('Historical Stock Data length is - ', str(data_len))\n",
    "\n",
    "    #create a split for train and testing\n",
    "    train_split = int(data_len * 0.80)\n",
    "    print('Training Set length - ', str(train_split))\n",
    "\n",
    "    val_split = train_split + int(data_len * 0.2)\n",
    "    print('Validation Set length - ', str(int(data_len * 0.2)))\n",
    "\n",
    "   \n",
    "\n",
    "    # Splitting features and target into train, validation and test samples \n",
    "    X_train, X_val = features[:train_split], features[train_split:val_split]\n",
    "    Y_train, Y_val = target[:train_split], target[train_split:val_split]\n",
    "\n",
    "    #print shape of samples\n",
    "    print(X_train.shape, X_val.shape)\n",
    "    print(Y_train.shape, Y_val.shape)\n",
    "    \n",
    "    return X_train, X_val, Y_train, Y_val"
   ]
  },
  {
   "cell_type": "code",
   "execution_count": 9,
   "id": "5baa383e",
   "metadata": {},
   "outputs": [
    {
     "name": "stdout",
     "output_type": "stream",
     "text": [
      "Historical Stock Data length is -  495\n",
      "Training Set length -  396\n",
      "Validation Set length -  99\n",
      "(396, 10) (99, 10)\n",
      "(396,) (99,)\n"
     ]
    }
   ],
   "source": [
    "X_train, X_val,Y_train, Y_val = create_train_test_set(df_Stock)"
   ]
  },
  {
   "cell_type": "markdown",
   "id": "c6374c9f",
   "metadata": {},
   "source": [
    "# Inserting X_train & Y_train in Our model"
   ]
  },
  {
   "cell_type": "code",
   "execution_count": 10,
   "id": "7093017d",
   "metadata": {},
   "outputs": [
    {
     "data": {
      "text/plain": [
       "LinearRegression()"
      ]
     },
     "execution_count": 10,
     "metadata": {},
     "output_type": "execute_result"
    }
   ],
   "source": [
    "from sklearn.linear_model import LinearRegression\n",
    "\n",
    "lr = LinearRegression()\n",
    "lr.fit(X_train, Y_train)"
   ]
  },
  {
   "cell_type": "code",
   "execution_count": 11,
   "id": "2b2f15c2",
   "metadata": {},
   "outputs": [
    {
     "name": "stdout",
     "output_type": "stream",
     "text": [
      "LR Coefficients: \n",
      " [-6.65124676e-02  6.51282935e-02  6.96813039e-02 -1.94344663e-02\n",
      "  8.80548317e-01  7.25416703e-02  1.58904633e-03 -5.40201242e-03\n",
      " -6.06769515e-09  6.67202980e-07]\n",
      "LR Intercept: \n",
      " -0.17278723840178145\n"
     ]
    }
   ],
   "source": [
    "print('LR Coefficients: \\n', lr.coef_) \n",
    "print('LR Intercept: \\n', lr.intercept_)"
   ]
  },
  {
   "cell_type": "code",
   "execution_count": 12,
   "id": "751ff8dd",
   "metadata": {},
   "outputs": [
    {
     "name": "stdout",
     "output_type": "stream",
     "text": [
      "Performance (R^2):  0.9997571311731819\n"
     ]
    }
   ],
   "source": [
    "print(\"Performance (R^2): \", lr.score(X_train, Y_train))"
   ]
  },
  {
   "cell_type": "code",
   "execution_count": 13,
   "id": "1dc506ef",
   "metadata": {},
   "outputs": [],
   "source": [
    "Y_train_pred = lr.predict(X_train)\n",
    "Y_val_pred = lr.predict(X_val)"
   ]
  },
  {
   "cell_type": "markdown",
   "id": "012db77f",
   "metadata": {},
   "source": [
    "# Calculating its performance"
   ]
  },
  {
   "cell_type": "code",
   "execution_count": 14,
   "id": "1b710fc1",
   "metadata": {},
   "outputs": [],
   "source": [
    "#  Compute mean absolute percentage error (MAPE)\n",
    "def get_mape(y_true, y_pred):     \n",
    "    y_true, y_pred = np.array(y_true), np.array(y_pred)\n",
    "    return np.mean(np.abs((y_true - y_pred) / y_true)) * 100"
   ]
  },
  {
   "cell_type": "code",
   "execution_count": 15,
   "id": "120cc5aa",
   "metadata": {},
   "outputs": [
    {
     "name": "stdout",
     "output_type": "stream",
     "text": [
      "Training R-squared:  1.0\n",
      "Training Explained Variation:  1.0\n",
      "Training MAPE: 0.2\n",
      "Training Mean Squared Error: 1.12\n",
      "Training RMSE:  1.06\n",
      "Training MAE:  0.79\n",
      " \n",
      "Validation R-squared:  1.0\n",
      "Validation Explained Variation:  1.0\n",
      "Validation MAPE: 0.17\n",
      "Validation Mean Squared Error: 1.12\n",
      "Validation RMSE:  1.2\n",
      "Validation MAE:  0.94\n",
      " \n"
     ]
    }
   ],
   "source": [
    "# first 88% of dataset\n",
    "print(\"Training R-squared: \",round(metrics.r2_score(Y_train,Y_train_pred),2))\n",
    "print(\"Training Explained Variation: \",round(metrics.explained_variance_score(Y_train,Y_train_pred),2))\n",
    "print('Training MAPE:', round(get_mape(Y_train,Y_train_pred), 2)) \n",
    "print('Training Mean Squared Error:', round(metrics.mean_squared_error(Y_train,Y_train_pred), 2)) \n",
    "print(\"Training RMSE: \",round(np.sqrt(metrics.mean_squared_error(Y_train,Y_train_pred)),2))\n",
    "print(\"Training MAE: \",round(metrics.mean_absolute_error(Y_train,Y_train_pred),2))\n",
    "\n",
    "print(' ')\n",
    "\n",
    "# rest 20% of dataset\n",
    "print(\"Validation R-squared: \",round(metrics.r2_score(Y_val,Y_val_pred),2))\n",
    "print(\"Validation Explained Variation: \",round(metrics.explained_variance_score(Y_val,Y_val_pred),2))\n",
    "print('Validation MAPE:', round(get_mape(Y_val,Y_val_pred), 2)) \n",
    "print('Validation Mean Squared Error:', round(metrics.mean_squared_error(Y_train,Y_train_pred), 2)) \n",
    "print(\"Validation RMSE: \",round(np.sqrt(metrics.mean_squared_error(Y_val,Y_val_pred)),2))\n",
    "print(\"Validation MAE: \",round(metrics.mean_absolute_error(Y_val,Y_val_pred),2))\n",
    "\n",
    "print(' ')\n",
    "\n"
   ]
  },
  {
   "cell_type": "code",
   "execution_count": 17,
   "id": "1b2f098f",
   "metadata": {},
   "outputs": [
    {
     "data": {
      "text/plain": [
       "1.203277372108109"
      ]
     },
     "execution_count": 17,
     "metadata": {},
     "output_type": "execute_result"
    }
   ],
   "source": [
    "rms=np.sqrt(np.mean(np.power((Y_val-Y_val_pred),2)))\n",
    "rms"
   ]
  },
  {
   "cell_type": "markdown",
   "id": "eb8f8a4c",
   "metadata": {},
   "source": [
    "# Plotting Actual v/s Predicted graph"
   ]
  },
  {
   "cell_type": "code",
   "execution_count": 18,
   "id": "3089ace6",
   "metadata": {},
   "outputs": [
    {
     "data": {
      "text/html": [
       "<div>\n",
       "<style scoped>\n",
       "    .dataframe tbody tr th:only-of-type {\n",
       "        vertical-align: middle;\n",
       "    }\n",
       "\n",
       "    .dataframe tbody tr th {\n",
       "        vertical-align: top;\n",
       "    }\n",
       "\n",
       "    .dataframe thead th {\n",
       "        text-align: right;\n",
       "    }\n",
       "</style>\n",
       "<table border=\"1\" class=\"dataframe\">\n",
       "  <thead>\n",
       "    <tr style=\"text-align: right;\">\n",
       "      <th></th>\n",
       "      <th>Actual</th>\n",
       "      <th>Predicted</th>\n",
       "    </tr>\n",
       "    <tr>\n",
       "      <th>Date</th>\n",
       "      <th></th>\n",
       "      <th></th>\n",
       "    </tr>\n",
       "  </thead>\n",
       "  <tbody>\n",
       "    <tr>\n",
       "      <th>2020-11-26</th>\n",
       "      <td>475.30</td>\n",
       "      <td>476.263362</td>\n",
       "    </tr>\n",
       "    <tr>\n",
       "      <th>2020-11-27</th>\n",
       "      <td>473.35</td>\n",
       "      <td>474.350150</td>\n",
       "    </tr>\n",
       "    <tr>\n",
       "      <th>2020-12-01</th>\n",
       "      <td>485.10</td>\n",
       "      <td>484.370849</td>\n",
       "    </tr>\n",
       "    <tr>\n",
       "      <th>2020-12-02</th>\n",
       "      <td>480.45</td>\n",
       "      <td>479.026244</td>\n",
       "    </tr>\n",
       "    <tr>\n",
       "      <th>2020-12-03</th>\n",
       "      <td>481.85</td>\n",
       "      <td>482.356682</td>\n",
       "    </tr>\n",
       "    <tr>\n",
       "      <th>...</th>\n",
       "      <td>...</td>\n",
       "      <td>...</td>\n",
       "    </tr>\n",
       "    <tr>\n",
       "      <th>2021-04-16</th>\n",
       "      <td>566.95</td>\n",
       "      <td>565.804757</td>\n",
       "    </tr>\n",
       "    <tr>\n",
       "      <th>2021-04-19</th>\n",
       "      <td>559.75</td>\n",
       "      <td>558.824340</td>\n",
       "    </tr>\n",
       "    <tr>\n",
       "      <th>2021-04-20</th>\n",
       "      <td>559.10</td>\n",
       "      <td>559.256109</td>\n",
       "    </tr>\n",
       "    <tr>\n",
       "      <th>2021-04-22</th>\n",
       "      <td>579.20</td>\n",
       "      <td>578.389308</td>\n",
       "    </tr>\n",
       "    <tr>\n",
       "      <th>2021-04-23</th>\n",
       "      <td>569.95</td>\n",
       "      <td>568.824416</td>\n",
       "    </tr>\n",
       "  </tbody>\n",
       "</table>\n",
       "<p>99 rows × 2 columns</p>\n",
       "</div>"
      ],
      "text/plain": [
       "            Actual   Predicted\n",
       "Date                          \n",
       "2020-11-26  475.30  476.263362\n",
       "2020-11-27  473.35  474.350150\n",
       "2020-12-01  485.10  484.370849\n",
       "2020-12-02  480.45  479.026244\n",
       "2020-12-03  481.85  482.356682\n",
       "...            ...         ...\n",
       "2021-04-16  566.95  565.804757\n",
       "2021-04-19  559.75  558.824340\n",
       "2021-04-20  559.10  559.256109\n",
       "2021-04-22  579.20  578.389308\n",
       "2021-04-23  569.95  568.824416\n",
       "\n",
       "[99 rows x 2 columns]"
      ]
     },
     "execution_count": 18,
     "metadata": {},
     "output_type": "execute_result"
    }
   ],
   "source": [
    "df_pred = pd.DataFrame(Y_val.values, columns=['Actual'], index=Y_val.index)\n",
    "df_pred['Predicted'] = Y_val_pred\n",
    "df_pred"
   ]
  },
  {
   "cell_type": "code",
   "execution_count": 19,
   "id": "b3e87362",
   "metadata": {},
   "outputs": [
    {
     "data": {
      "text/plain": [
       "<AxesSubplot:xlabel='Date'>"
      ]
     },
     "execution_count": 19,
     "metadata": {},
     "output_type": "execute_result"
    },
    {
     "data": {
      "image/png": "[encoded data removed]",
      "text/plain": [
       "<Figure size 432x288 with 1 Axes>"
      ]
     },
     "metadata": {
      "needs_background": "light"
     },
     "output_type": "display_data"
    }
   ],
   "source": [
    "df_pred[['Actual', 'Predicted']].plot()"
   ]
  },
  {
   "cell_type": "code",
   "execution_count": 20,
   "id": "a9cc47bb",
   "metadata": {},
   "outputs": [
    {
     "data": {
      "image/png": "[encoded data removed]",
      "text/plain": [
       "<Figure size 1152x576 with 1 Axes>"
      ]
     },
     "metadata": {
      "needs_background": "light"
     },
     "output_type": "display_data"
    }
   ],
   "source": [
    "train = df_Stock[: df_Stock.shape[0]]\n",
    "valid = pd.DataFrame(Y_val.values, columns=['Actual'], index=Y_val.index)\n",
    "valid['Predictions'] = Y_val_pred\n",
    "plt.figure(figsize = (16,8))\n",
    "plt.title ('Model Prediction')\n",
    "plt.xlabel (\"Date\" ,fontsize=18)\n",
    "plt.grid(which=\"major\", color='k', linestyle='-.', linewidth=0.5)\n",
    "plt.ylabel (\"Close Price in Rs.\" ,fontsize=18)\n",
    "plt.plot(train['close'])\n",
    "plt.plot(valid[['Actual', 'Predictions']])\n",
    "plt.show()\n"
   ]
  },
  {
   "cell_type": "code",
   "execution_count": 18,
   "id": "bcb17dd2",
   "metadata": {},
   "outputs": [
    {
     "data": {
      "text/html": [
       "<div>\n",
       "<style scoped>\n",
       "    .dataframe tbody tr th:only-of-type {\n",
       "        vertical-align: middle;\n",
       "    }\n",
       "\n",
       "    .dataframe tbody tr th {\n",
       "        vertical-align: top;\n",
       "    }\n",
       "\n",
       "    .dataframe thead th {\n",
       "        text-align: right;\n",
       "    }\n",
       "</style>\n",
       "<table border=\"1\" class=\"dataframe\">\n",
       "  <thead>\n",
       "    <tr style=\"text-align: right;\">\n",
       "      <th></th>\n",
       "      <th>Actual</th>\n",
       "      <th>Predictions</th>\n",
       "    </tr>\n",
       "    <tr>\n",
       "      <th>Date</th>\n",
       "      <th></th>\n",
       "      <th></th>\n",
       "    </tr>\n",
       "  </thead>\n",
       "  <tbody>\n",
       "    <tr>\n",
       "      <th>2020-11-26</th>\n",
       "      <td>475.30</td>\n",
       "      <td>476.263362</td>\n",
       "    </tr>\n",
       "    <tr>\n",
       "      <th>2020-11-27</th>\n",
       "      <td>473.35</td>\n",
       "      <td>474.350150</td>\n",
       "    </tr>\n",
       "    <tr>\n",
       "      <th>2020-12-01</th>\n",
       "      <td>485.10</td>\n",
       "      <td>484.370849</td>\n",
       "    </tr>\n",
       "    <tr>\n",
       "      <th>2020-12-02</th>\n",
       "      <td>480.45</td>\n",
       "      <td>479.026244</td>\n",
       "    </tr>\n",
       "    <tr>\n",
       "      <th>2020-12-03</th>\n",
       "      <td>481.85</td>\n",
       "      <td>482.356682</td>\n",
       "    </tr>\n",
       "    <tr>\n",
       "      <th>...</th>\n",
       "      <td>...</td>\n",
       "      <td>...</td>\n",
       "    </tr>\n",
       "    <tr>\n",
       "      <th>2021-04-16</th>\n",
       "      <td>566.95</td>\n",
       "      <td>565.804757</td>\n",
       "    </tr>\n",
       "    <tr>\n",
       "      <th>2021-04-19</th>\n",
       "      <td>559.75</td>\n",
       "      <td>558.824340</td>\n",
       "    </tr>\n",
       "    <tr>\n",
       "      <th>2021-04-20</th>\n",
       "      <td>559.10</td>\n",
       "      <td>559.256109</td>\n",
       "    </tr>\n",
       "    <tr>\n",
       "      <th>2021-04-22</th>\n",
       "      <td>579.20</td>\n",
       "      <td>578.389308</td>\n",
       "    </tr>\n",
       "    <tr>\n",
       "      <th>2021-04-23</th>\n",
       "      <td>569.95</td>\n",
       "      <td>568.824416</td>\n",
       "    </tr>\n",
       "  </tbody>\n",
       "</table>\n",
       "<p>99 rows × 2 columns</p>\n",
       "</div>"
      ],
      "text/plain": [
       "            Actual  Predictions\n",
       "Date                           \n",
       "2020-11-26  475.30   476.263362\n",
       "2020-11-27  473.35   474.350150\n",
       "2020-12-01  485.10   484.370849\n",
       "2020-12-02  480.45   479.026244\n",
       "2020-12-03  481.85   482.356682\n",
       "...            ...          ...\n",
       "2021-04-16  566.95   565.804757\n",
       "2021-04-19  559.75   558.824340\n",
       "2021-04-20  559.10   559.256109\n",
       "2021-04-22  579.20   578.389308\n",
       "2021-04-23  569.95   568.824416\n",
       "\n",
       "[99 rows x 2 columns]"
      ]
     },
     "execution_count": 18,
     "metadata": {},
     "output_type": "execute_result"
    }
   ],
   "source": [
    "valid"
   ]
  },
  {
   "cell_type": "code",
   "execution_count": null,
   "id": "7616602f",
   "metadata": {},
   "outputs": [],
   "source": []
  }
 ],
 "metadata": {
  "kernelspec": {
   "display_name": "Python 3",
   "language": "python",
   "name": "python3"
  },
  "language_info": {
   "codemirror_mode": {
    "name": "ipython",
    "version": 3
   },
   "file_extension": ".py",
   "mimetype": "text/x-python",
   "name": "python",
   "nbconvert_exporter": "python",
   "pygments_lexer": "ipython3",
   "version": "3.8.8"
  }
 },
 "nbformat": 4,
 "nbformat_minor": 5
}
